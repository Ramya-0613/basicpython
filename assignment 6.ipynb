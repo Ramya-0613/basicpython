{
 "cells": [
  {
   "cell_type": "code",
   "execution_count": 2,
   "id": "b800b8bd",
   "metadata": {},
   "outputs": [
    {
     "name": "stdout",
     "output_type": "stream",
     "text": [
      "8\n",
      "fibonacci series:\n",
      "0 1 1 2 3 5 8 13 "
     ]
    }
   ],
   "source": [
    "def fibonacci(n):\n",
    "    if n<=1:\n",
    "        return n\n",
    "    else:\n",
    "        return fibonacci(n-1)+fibonacci(n-2)\n",
    "n=int(input())\n",
    "print(\"fibonacci series:\")\n",
    "for i in range(n):\n",
    "    print(fibonacci(i),end=' ')"
   ]
  },
  {
   "cell_type": "code",
   "execution_count": 4,
   "id": "a4ea4d47",
   "metadata": {},
   "outputs": [
    {
     "name": "stdout",
     "output_type": "stream",
     "text": [
      "5\n",
      "120\n"
     ]
    }
   ],
   "source": [
    "def fact(n):\n",
    "    if n==0 or n==1:\n",
    "        return 1\n",
    "    else:\n",
    "        return n*fact(n-1)\n",
    "n=int(input())\n",
    "print(fact(n))"
   ]
  },
  {
   "cell_type": "code",
   "execution_count": 5,
   "id": "dc29f450",
   "metadata": {},
   "outputs": [
    {
     "name": "stdout",
     "output_type": "stream",
     "text": [
      "4.0\n",
      "50\n",
      "body mass index 3.125\n"
     ]
    }
   ],
   "source": [
    "h=float(input())\n",
    "w=int(input())\n",
    "BMI=w/h**2\n",
    "print(\"body mass index\",BMI)"
   ]
  },
  {
   "cell_type": "code",
   "execution_count": 6,
   "id": "387a48fa",
   "metadata": {},
   "outputs": [
    {
     "name": "stdout",
     "output_type": "stream",
     "text": [
      "4\n",
      "natural log 1.3862943611198906\n"
     ]
    }
   ],
   "source": [
    "import math\n",
    "a=int(input())\n",
    "b=math.log(a)\n",
    "print(\"natural log\",b)"
   ]
  },
  {
   "cell_type": "code",
   "execution_count": null,
   "id": "9ca3f687",
   "metadata": {},
   "outputs": [],
   "source": [
    "def cubesum(n):\n",
    "    sum=0\n",
    "    for i in range(1,n+1):\n",
    "        sum+=i**3\n",
    "    return sum\n",
    "n=int(input())\n",
    "print(\"sum of cube of first natural numbers:\",)"
   ]
  }
 ],
 "metadata": {
  "kernelspec": {
   "display_name": "Python 3 (ipykernel)",
   "language": "python",
   "name": "python3"
  },
  "language_info": {
   "codemirror_mode": {
    "name": "ipython",
    "version": 3
   },
   "file_extension": ".py",
   "mimetype": "text/x-python",
   "name": "python",
   "nbconvert_exporter": "python",
   "pygments_lexer": "ipython3",
   "version": "3.9.7"
  }
 },
 "nbformat": 4,
 "nbformat_minor": 5
}
